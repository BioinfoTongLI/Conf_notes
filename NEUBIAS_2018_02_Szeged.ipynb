{
 "cells": [
  {
   "cell_type": "markdown",
   "metadata": {},
   "source": [
    "## This is juste a share of experience of what I've learn from NEUBIAS 2018. Hope it will be useful for you.\n",
    "If you are doing image processing in your daily work. I encourage you to have a look on __every link__."
   ]
  },
  {
   "cell_type": "markdown",
   "metadata": {},
   "source": [
    "# [NEUBIAS 2018 Szeged](http://eubias.org/NEUBIAS/neubias2020-conference/szeged-hungary-2018/)\n",
    "Personal comment: NEUBIAS is for __anyone__ who want to contribut and share their experience in the area of bioimage analysis. I strongly encourage __biologist__ that are doing bioimage analysis in their daily work to go to this [conference](http://eubias.org/NEUBIAS/neubias2020-conference/) and [training school](http://eubias.org/NEUBIAS/training-schools/). There is also a [travel grant program](http://eubias.org/NEUBIAS/mobility-grants/)\n"
   ]
  },
  {
   "cell_type": "markdown",
   "metadata": {},
   "source": [
    "[Call4help section](https://docs.google.com/document/d/1N05NQWT0k2KQXGhVg8gmRqrtA_tPdwY4k_sdDQT6Qy4/mobilebasic): In this session, around 10 persons come with their own problems and short presentations of bioimage analysis (e.g. object segmentation, image denoising) and discuss the solution with the experts. "
   ]
  },
  {
   "cell_type": "markdown",
   "metadata": {},
   "source": [
    "## Convenient Tools (All tools are free and ___Open Source___!)"
   ]
  },
  {
   "cell_type": "markdown",
   "metadata": {},
   "source": [
    "### [BISE](http://biii.eu/) : Find what you need for image analysis\n",
    "The goal is to index all of the bioimage analysis tools. So that you can use the serach engine to find the tool you need, based on image type, microscopy type, objective etc. You can also participate the tool curation.\n",
    "PS: this tool can be embedded into Fiji's new search bar."
   ]
  },
  {
   "cell_type": "markdown",
   "metadata": {},
   "source": [
    "### [ilastik](http://ilastik.org/) : The most intuitive image segmentation method based on machine learning (random forest)\n",
    "This tools can solve quite a large range of segmentation problem. You should have a go on this."
   ]
  },
  {
   "cell_type": "markdown",
   "metadata": {},
   "source": [
    "### [Bigdata viewer](https://imagej.net/BigDataViewer): Visualization of large dataset (>10 Gb) without lagging"
   ]
  },
  {
   "cell_type": "markdown",
   "metadata": {},
   "source": [
    "### [Trackmate](https://imagej.net/TrackMate), [MaMut](http://imagej.net/MaMuT) and [Mastodon](https://github.com/fiji/TrackMate3)\n",
    "[Trackmate](https://imagej.net/TrackMate) is a commonly used tool for __dot-like signal detection, tracking and track editing__ in relatively small images (~ 1Gb)<br> \n",
    "[MaMut](http://imagej.net/MaMuT) is a combination of BigDataviewer and Trackmate, designed for more or less the same proposer but with larger dataset (~1 to 100Gb)<br>\n",
    "And [Mastodon](https://github.com/fiji/TrackMate3) is for even larger track editing (>1Tb, for exmple images coming from light-sheet microscopy)."
   ]
  },
  {
   "cell_type": "markdown",
   "metadata": {},
   "source": [
    "### [Cytomine](http://www.montefiore.ulg.ac.be/~maree/cytomine/Cytomine_overview_uliege.pdf) : On-line collaborative image annotation"
   ]
  },
  {
   "cell_type": "markdown",
   "metadata": {},
   "source": [
    "### [CARE](http://csbdeep.bioimagecomputing.com/gallery.html) : Deconvolution comparable image restroration using deep learning\n",
    "Believe it or not, have a look at this."
   ]
  },
  {
   "cell_type": "markdown",
   "metadata": {},
   "source": [
    "### [OMERO toolbox](http://help.openmicroscopy.org/index.html) : On-line image storage, processing, analysis, and even preparation of figures for an article.\n"
   ]
  },
  {
   "cell_type": "markdown",
   "metadata": {},
   "source": [
    "### [KNIME](https://www.knime.com/knime-analytics-platform) : Build your analysis workflow with graphical interface"
   ]
  },
  {
   "cell_type": "code",
   "execution_count": null,
   "metadata": {},
   "outputs": [],
   "source": []
  }
 ],
 "metadata": {
  "kernelspec": {
   "display_name": "Python 3",
   "language": "python",
   "name": "python3"
  },
  "language_info": {
   "codemirror_mode": {
    "name": "ipython",
    "version": 3
   },
   "file_extension": ".py",
   "mimetype": "text/x-python",
   "name": "python",
   "nbconvert_exporter": "python",
   "pygments_lexer": "ipython3",
   "version": "3.6.3"
  }
 },
 "nbformat": 4,
 "nbformat_minor": 2
}
